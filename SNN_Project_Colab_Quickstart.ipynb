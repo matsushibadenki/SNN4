{
 "cells": [
  {
   "cell_type": "markdown",
   "metadata": {},
   "source": [
    "# SNNベースAIチャットシステム Colabクイックスタート\n\n",
    "このノートブックは、SNNプロジェクトの主要な機能をGoogle Colab上で簡単に実行するためのガイドです。\n\n",
    "**主な内容:**\n",
    "1.  **環境設定**: プロジェクトのセットアップと必要なライブラリのインストール\n",
    "2.  **自律エージェントの実行**: 学習済みモデルを使った推論と、オンデマンドでの新規モデル学習\n",
    "3.  **高次認知プランナーの操作**: 複数の専門家を連携させた複雑なタスクの解決\n",
    "4.  **モデルの学習**: `train.py` を使ったSNNモデルの学習プロセス\n"
   ]
  },
  {
   "cell_type": "markdown",
   "metadata": {},
   "source": [
    "## 1. 環境設定\n\n",
    "まず、プロジェクトのセットアップスクリプトを実行して、必要なライブラリをインストールします。\n",
    "（注：実際の環境では、まず `git clone` でリポジトリをクローンする必要があります）"
   ]
  },
  {
   "cell_type": "code",
   "execution_count": null,
   "metadata": {},
   "outputs": [],
   "source": [
    "!bash setup_colab.sh"
   ]
  },
  {
   "cell_type": "markdown",
   "metadata": {},
   "source": [
    "## 2. 自律エージェント (`run_agent.py`) の実行\n\n",
    "`AutonomousAgent` にタスクを依頼します。エージェントは自己の能力（モデル登録簿）を調べ、最適な専門家モデルを選択するか、必要であれば新しい専門家をオンデマンドで学習します。"
   ]
  },
  {
   "cell_type": "markdown",
   "metadata": {},
   "source": [
    "### 例1: 新しい専門家モデル（文章要約）をオンデマンドで学習\n\n",
    "まだ「文章要約」の専門家はいないため、エージェントは提供されたデータ (`data/sample_data.jsonl`) を使って自動的に知識蒸留を開始します。"
   ]
  },
  {
   "cell_type": "code",
   "execution_count": null,
   "metadata": {},
   "outputs": [],
   "source": [
    "!python run_agent.py \\\n",
    "    --task_description \"文章要約\" \\\n",
    "    --unlabeled_data_path data/sample_data.jsonl \\\n",
    "    --prompt \"SNNは、生物の神経系における情報の伝達と処理のメカニズムを模倣したニューラルネットワークの一種である。\""
   ]
  },
  {
   "cell_type": "markdown",
   "metadata": {},
   "source": [
    "### 例2: 既存の専門家モデル（感情分析）を選択して推論\n\n",
    "（このセルを実行する前に、「感情分析」モデルが学習済みであると仮定します。初回は学習が走ります）"
   ]
  },
  {
   "cell_type": "code",
   "execution_count": null,
   "metadata": {},
   "outputs": [],
   "source": [
    "!python run_agent.py \\\n",
    "    --task_description \"感情分析\" \\\n",
    "    --unlabeled_data_path data/sample_data.jsonl \\\n",
    "    --prompt \"この映画は本当に素晴らしかった！\""
   ]
  },
  {
   "cell_type": "markdown",
   "metadata": {},
   "source": [
    "## 3. 高次認知プランナー (`run_planner.py`) の操作\n\n",
    "プランナーは、複雑なタスクを複数のサブタスクに分解し、段階的に解決します。"
   ]
  },
  {
   "cell_type": "markdown",
   "metadata": {},
   "source": [
    "### ステップ 3.1: 知識ベースの構築\n\n",
    "プランナーが内部のRAG（Retrieval-Augmented Generation）システムで利用する知識ベースを構築します。"
   ]
  },
  {
   "cell_type": "code",
   "execution_count": null,
   "metadata": {},
   "outputs": [],
   "source": [
    "!python scripts/build_knowledge_base.py"
   ]
  },
  {
   "cell_type": "markdown",
   "metadata": {},
   "source": [
    "### ステップ 3.2: 複雑なタスクの実行\n\n",
    "プランナーに「要約」と「感情分析」を組み合わせたタスクを依頼します。プランナーは動的に計画を立て、対応する専門家を順番に呼び出します。"
   ]
  },
  {
   "cell_type": "code",
   "execution_count": null,
   "metadata": {},
   "outputs": [],
   "source": [
    "!python run_planner.py \\\n",
    "    --task_request \"この記事を要約して、その内容の感情を分析してください。\" \\\n",
    "    --context_data \"SNNは非常にエネルギー効率が高いことで知られているが、その性能はまだANNに及ばない点もある。\""
   ]
  },
  {
   "cell_type": "markdown",
   "metadata": {},
   "source": [
    "## 4. モデルの学習 (`train.py`)\n\n",
    "知識蒸留を用いて、小型の専門家SNNを学習させる例です。\n\n",
    "まず、蒸留のための教師データ（ロジット）を事前計算します。"
   ]
  },
  {
   "cell_type": "code",
   "execution_count": null,
   "metadata": {},
   "outputs": [],
   "source": [
    "!python scripts/prepare_distillation_data.py \\\n",
    "    --input_file data/sample_data.jsonl \\\n",
    "    --output_dir precomputed_data/sample_distill"
   ]
  },
  {
   "cell_type": "markdown",
   "metadata": {},
   "source": [
    "次に、事前計算したデータを使ってSNNモデルを学習します。"
   ]
  },
  {
   "cell_type": "code",
   "execution_count": null,
   "metadata": {},
   "outputs": [],
   "source": [
    "!python train.py \\\n",
    "    --config configs/base_config.yaml \\\n",
    "    --model_config configs/models/small.yaml \\\n",
    "    --data_path precomputed_data/sample_distill \\\n",
    "    --override_config \"training.type=distillation\""
   ]
  }
 ],
 "metadata": {
  "kernelspec": {
   "display_name": "Python 3",
   "language": "python",
   "name": "python3"
  }
 },
 "nbformat": 4,
 "nbformat_minor": 4
}